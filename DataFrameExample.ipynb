{
 "cells": [
  {
   "cell_type": "markdown",
   "metadata": {
    "nteract": {
     "transient": {
      "deleting": false
     }
    }
   },
   "source": [
    "### Dataframe example"
   ]
  },
  {
   "cell_type": "code",
   "execution_count": 1,
   "metadata": {
    "execution": {
     "iopub.execute_input": "2021-09-09T16:23:03.103Z",
     "iopub.status.busy": "2021-09-09T16:23:03.097Z",
     "iopub.status.idle": "2021-09-09T16:23:03.142Z",
     "shell.execute_reply": "2021-09-09T16:23:03.199Z"
    },
    "jupyter": {
     "outputs_hidden": false,
     "source_hidden": false
    },
    "nteract": {
     "transient": {
      "deleting": false
     }
    }
   },
   "outputs": [],
   "source": [
    "import os\n",
    "import pyspark\n",
    "import re\n",
    "import sys\n",
    "from operator import add\n",
    "from pyspark.sql import SparkSession"
   ]
  },
  {
   "cell_type": "raw",
   "metadata": {
    "execution": {
     "iopub.execute_input": "2021-09-09T16:23:03.161Z",
     "iopub.status.busy": "2021-09-09T16:23:03.152Z",
     "iopub.status.idle": "2021-09-09T16:23:03.173Z",
     "shell.execute_reply": "2021-09-09T16:23:03.202Z"
    },
    "jupyter": {
     "outputs_hidden": false,
     "source_hidden": false
    },
    "nteract": {
     "transient": {
      "deleting": false
     }
    }
   },
   "source": [
    "os.environ[\"SPARK_HOME\"] = \"/Users/snell/Software/spark-3.1.1-bin-hadoop2.7\"\n",
    "os.environ[\"PYSPARK_PYTHON\"]=\"/Users/snell/anaconda3/bin/python\"\n",
    "os.environ[\"PYSPARK_DRIVER_PYTHON\"]=\"/Users/snell/anaconda3/bin/python\"\n",
    "#os.environ[\"JAVA_HOME\"] = \"/Library/Java/JavaVirtualMachines/jdk1.8.0_92.jdk/Contents/Home/\"\n",
    "os.environ[\"JAVA_HOME\"] = \"/Library/Java/JavaVirtualMachines/adoptopenjdk-11.jdk/Contents/Home/\""
   ]
  },
  {
   "cell_type": "code",
   "execution_count": 2,
   "metadata": {
    "execution": {
     "iopub.execute_input": "2021-09-09T16:23:03.192Z",
     "iopub.status.busy": "2021-09-09T16:23:03.184Z",
     "iopub.status.idle": "2021-09-09T16:23:06.946Z",
     "shell.execute_reply": "2021-09-09T16:23:06.988Z"
    },
    "jupyter": {
     "outputs_hidden": false,
     "source_hidden": false
    },
    "nteract": {
     "transient": {
      "deleting": false
     }
    }
   },
   "outputs": [
    {
     "name": "stderr",
     "output_type": "stream",
     "text": [
      "WARNING: An illegal reflective access operation has occurred\n",
      "WARNING: Illegal reflective access by org.apache.spark.unsafe.Platform (file:/usr/local/spark-3.1.2-bin-hadoop3.2/jars/spark-unsafe_2.12-3.1.2.jar) to constructor java.nio.DirectByteBuffer(long,int)\n",
      "WARNING: Please consider reporting this to the maintainers of org.apache.spark.unsafe.Platform\n",
      "WARNING: Use --illegal-access=warn to enable warnings of further illegal reflective access operations\n",
      "WARNING: All illegal access operations will be denied in a future release\n",
      "21/10/19 21:09:58 WARN NativeCodeLoader: Unable to load native-hadoop library for your platform... using builtin-java classes where applicable\n",
      "Using Spark's default log4j profile: org/apache/spark/log4j-defaults.properties\n",
      "Setting default log level to \"WARN\".\n",
      "To adjust logging level use sc.setLogLevel(newLevel). For SparkR, use setLogLevel(newLevel).\n"
     ]
    },
    {
     "data": {
      "text/plain": [
       "'http://39cf2f12b05e:4040'"
      ]
     },
     "execution_count": 2,
     "metadata": {},
     "output_type": "execute_result"
    }
   ],
   "source": [
    "spark = SparkSession.builder.appName(\"DataFrameExample\").getOrCreate()\n",
    "sc = spark.sparkContext\n",
    "sc.setLogLevel('WARN')\n",
    "sc.uiWebUrl"
   ]
  },
  {
   "cell_type": "code",
   "execution_count": 3,
   "metadata": {
    "execution": {
     "iopub.execute_input": "2021-09-09T16:23:06.968Z",
     "iopub.status.busy": "2021-09-09T16:23:06.960Z",
     "iopub.status.idle": "2021-09-09T16:23:09.956Z",
     "shell.execute_reply": "2021-09-09T16:23:10.036Z"
    },
    "jupyter": {
     "outputs_hidden": false,
     "source_hidden": false
    },
    "nteract": {
     "transient": {
      "deleting": false
     }
    }
   },
   "outputs": [
    {
     "name": "stdout",
     "output_type": "stream",
     "text": [
      "+----+---+---+---+\n",
      "|name|hw1|hw2|hw3|\n",
      "+----+---+---+---+\n",
      "|john| 26| 29| 30|\n",
      "|mary| 27| 25| 35|\n",
      "|bill| 19| 22| 25|\n",
      "| lee| 25| 25| 25|\n",
      "+----+---+---+---+\n",
      "\n"
     ]
    }
   ],
   "source": [
    "# grades.csv should be:\n",
    "# name,hw1,hw2,hw3\n",
    "# john,26,29,30\n",
    "# mary,27,25,35\n",
    "# bill,19,22,25\n",
    "# lee,25,25,25\n",
    "\n",
    "gradeDF = spark.read.option(\"header\", \"true\").csv(\"grades.csv\")\n",
    "gradeDF.show()"
   ]
  },
  {
   "cell_type": "code",
   "execution_count": 4,
   "metadata": {},
   "outputs": [
    {
     "data": {
      "text/html": [
       "<div>\n",
       "<style scoped>\n",
       "    .dataframe tbody tr th:only-of-type {\n",
       "        vertical-align: middle;\n",
       "    }\n",
       "\n",
       "    .dataframe tbody tr th {\n",
       "        vertical-align: top;\n",
       "    }\n",
       "\n",
       "    .dataframe thead th {\n",
       "        text-align: right;\n",
       "    }\n",
       "</style>\n",
       "<table border=\"1\" class=\"dataframe\">\n",
       "  <thead>\n",
       "    <tr style=\"text-align: right;\">\n",
       "      <th></th>\n",
       "      <th>name</th>\n",
       "      <th>hw1</th>\n",
       "      <th>hw2</th>\n",
       "      <th>hw3</th>\n",
       "    </tr>\n",
       "  </thead>\n",
       "  <tbody>\n",
       "    <tr>\n",
       "      <th>0</th>\n",
       "      <td>john</td>\n",
       "      <td>26</td>\n",
       "      <td>29</td>\n",
       "      <td>30</td>\n",
       "    </tr>\n",
       "    <tr>\n",
       "      <th>1</th>\n",
       "      <td>mary</td>\n",
       "      <td>27</td>\n",
       "      <td>25</td>\n",
       "      <td>35</td>\n",
       "    </tr>\n",
       "    <tr>\n",
       "      <th>2</th>\n",
       "      <td>bill</td>\n",
       "      <td>19</td>\n",
       "      <td>22</td>\n",
       "      <td>25</td>\n",
       "    </tr>\n",
       "    <tr>\n",
       "      <th>3</th>\n",
       "      <td>lee</td>\n",
       "      <td>25</td>\n",
       "      <td>25</td>\n",
       "      <td>25</td>\n",
       "    </tr>\n",
       "  </tbody>\n",
       "</table>\n",
       "</div>"
      ],
      "text/plain": [
       "   name hw1 hw2 hw3\n",
       "0  john  26  29  30\n",
       "1  mary  27  25  35\n",
       "2  bill  19  22  25\n",
       "3   lee  25  25  25"
      ]
     },
     "execution_count": 4,
     "metadata": {},
     "output_type": "execute_result"
    }
   ],
   "source": [
    "gradeDF.toPandas().head()"
   ]
  },
  {
   "cell_type": "code",
   "execution_count": 5,
   "metadata": {
    "execution": {
     "iopub.execute_input": "2021-09-09T16:23:09.975Z",
     "iopub.status.busy": "2021-09-09T16:23:09.967Z",
     "iopub.status.idle": "2021-09-09T16:23:09.996Z",
     "shell.execute_reply": "2021-09-09T16:23:10.041Z"
    },
    "jupyter": {
     "outputs_hidden": false,
     "source_hidden": false
    },
    "nteract": {
     "transient": {
      "deleting": false
     }
    }
   },
   "outputs": [
    {
     "name": "stdout",
     "output_type": "stream",
     "text": [
      "root\n",
      " |-- name: string (nullable = true)\n",
      " |-- hw1: string (nullable = true)\n",
      " |-- hw2: string (nullable = true)\n",
      " |-- hw3: string (nullable = true)\n",
      "\n"
     ]
    }
   ],
   "source": [
    "gradeDF.printSchema()"
   ]
  },
  {
   "cell_type": "code",
   "execution_count": 6,
   "metadata": {
    "execution": {
     "iopub.execute_input": "2021-09-09T16:23:10.017Z",
     "iopub.status.busy": "2021-09-09T16:23:10.009Z",
     "iopub.status.idle": "2021-09-09T16:23:10.203Z",
     "shell.execute_reply": "2021-09-09T16:23:10.240Z"
    },
    "jupyter": {
     "outputs_hidden": false,
     "source_hidden": false
    },
    "nteract": {
     "transient": {
      "deleting": false
     }
    }
   },
   "outputs": [
    {
     "name": "stdout",
     "output_type": "stream",
     "text": [
      "+----+-------+\n",
      "|name|   dept|\n",
      "+----+-------+\n",
      "|john|    CSE|\n",
      "|mary|BIOLOGY|\n",
      "|bill|    ECE|\n",
      "| lee|  CIVIL|\n",
      "+----+-------+\n",
      "\n"
     ]
    }
   ],
   "source": [
    "# majors.csv should be\n",
    "# name,dept\n",
    "# john,CSE\n",
    "# mary,BIOLOGY\n",
    "# bill,ECE\n",
    "# lee,CIVIL\n",
    "\n",
    "majorDF = spark.read.option(\"header\",\"true\").csv(\"majors.csv\")\n",
    "majorDF.show()"
   ]
  },
  {
   "cell_type": "markdown",
   "metadata": {
    "nteract": {
     "transient": {
      "deleting": false
     }
    }
   },
   "source": [
    "### Join the grades and majors tables. Rename majorDF.name as majorDF.name2"
   ]
  },
  {
   "cell_type": "code",
   "execution_count": 7,
   "metadata": {
    "execution": {
     "iopub.execute_input": "2021-09-09T16:23:10.223Z",
     "iopub.status.busy": "2021-09-09T16:23:10.214Z",
     "iopub.status.idle": "2021-09-09T16:23:10.499Z",
     "shell.execute_reply": "2021-09-09T16:23:10.532Z"
    },
    "jupyter": {
     "outputs_hidden": false,
     "source_hidden": false
    },
    "nteract": {
     "transient": {
      "deleting": false
     }
    }
   },
   "outputs": [
    {
     "name": "stdout",
     "output_type": "stream",
     "text": [
      "+----+---+---+---+-------+\n",
      "|name|hw1|hw2|hw3|   dept|\n",
      "+----+---+---+---+-------+\n",
      "|john| 26| 29| 30|    CSE|\n",
      "|mary| 27| 25| 35|BIOLOGY|\n",
      "|bill| 19| 22| 25|    ECE|\n",
      "| lee| 25| 25| 25|  CIVIL|\n",
      "+----+---+---+---+-------+\n",
      "\n"
     ]
    }
   ],
   "source": [
    "result = gradeDF.join(majorDF, ['name'], how='inner')\n",
    "result.show()"
   ]
  },
  {
   "cell_type": "markdown",
   "metadata": {
    "nteract": {
     "transient": {
      "deleting": false
     }
    }
   },
   "source": [
    "### Calculate the total grade"
   ]
  },
  {
   "cell_type": "code",
   "execution_count": 8,
   "metadata": {
    "execution": {
     "iopub.execute_input": "2021-09-09T16:23:10.517Z",
     "iopub.status.busy": "2021-09-09T16:23:10.510Z",
     "iopub.status.idle": "2021-09-09T16:23:10.828Z",
     "shell.execute_reply": "2021-09-09T16:23:10.868Z"
    },
    "jupyter": {
     "outputs_hidden": false,
     "source_hidden": false
    },
    "nteract": {
     "transient": {
      "deleting": false
     }
    }
   },
   "outputs": [
    {
     "name": "stdout",
     "output_type": "stream",
     "text": [
      "+----+-------+-------+\n",
      "|name|hwgrade|   dept|\n",
      "+----+-------+-------+\n",
      "|john|   85.0|    CSE|\n",
      "|mary|   87.0|BIOLOGY|\n",
      "|bill|   66.0|    ECE|\n",
      "| lee|   75.0|  CIVIL|\n",
      "+----+-------+-------+\n",
      "\n"
     ]
    }
   ],
   "source": [
    "hwtotalDF = result.selectExpr(\"name\", \"hw1+hw2+hw3 as hwgrade\", \"dept\")\n",
    "hwtotalDF.show()"
   ]
  },
  {
   "cell_type": "markdown",
   "metadata": {
    "nteract": {
     "transient": {
      "deleting": false
     }
    }
   },
   "source": [
    "### Find students with total grade greater than 80"
   ]
  },
  {
   "cell_type": "code",
   "execution_count": 9,
   "metadata": {
    "execution": {
     "iopub.execute_input": "2021-09-09T16:23:10.849Z",
     "iopub.status.busy": "2021-09-09T16:23:10.840Z",
     "iopub.status.idle": "2021-09-09T16:23:11.067Z",
     "shell.execute_reply": "2021-09-09T16:23:11.101Z"
    },
    "jupyter": {
     "outputs_hidden": false,
     "source_hidden": false
    },
    "nteract": {
     "transient": {
      "deleting": false
     }
    }
   },
   "outputs": [
    {
     "name": "stdout",
     "output_type": "stream",
     "text": [
      "+----+-------+-------+\n",
      "|name|hwgrade|   dept|\n",
      "+----+-------+-------+\n",
      "|john|   85.0|    CSE|\n",
      "|mary|   87.0|BIOLOGY|\n",
      "+----+-------+-------+\n",
      "\n"
     ]
    }
   ],
   "source": [
    "hwtotalDF.filter(hwtotalDF.hwgrade > 80).show()"
   ]
  },
  {
   "cell_type": "markdown",
   "metadata": {
    "nteract": {
     "transient": {
      "deleting": false
     }
    }
   },
   "source": [
    "### Create Dataframe for college information"
   ]
  },
  {
   "cell_type": "code",
   "execution_count": 10,
   "metadata": {
    "execution": {
     "iopub.execute_input": "2021-09-09T16:23:11.087Z",
     "iopub.status.busy": "2021-09-09T16:23:11.079Z",
     "iopub.status.idle": "2021-09-09T16:23:12.082Z",
     "shell.execute_reply": "2021-09-09T16:23:12.120Z"
    },
    "jupyter": {
     "outputs_hidden": false,
     "source_hidden": false
    },
    "nteract": {
     "transient": {
      "deleting": false
     }
    }
   },
   "outputs": [
    {
     "name": "stdout",
     "output_type": "stream",
     "text": [
      "+--------+-----------+\n",
      "|deptname|collegename|\n",
      "+--------+-----------+\n",
      "|     CSE|        EGR|\n",
      "|     ECE|        EGR|\n",
      "|   CIVIL|        EGR|\n",
      "| BIOLOGY|     NATSCI|\n",
      "+--------+-----------+\n",
      "\n"
     ]
    }
   ],
   "source": [
    "c = (('CSE','EGR'), ('ECE', 'EGR'), ('CIVIL', 'EGR'), ('BIOLOGY', 'NATSCI'))\n",
    "crdd = sc.parallelize(c)\n",
    "collegeDF = crdd.toDF(['deptname', 'collegename'])\n",
    "collegeDF.show()"
   ]
  },
  {
   "cell_type": "markdown",
   "metadata": {
    "nteract": {
     "transient": {
      "deleting": false
     }
    }
   },
   "source": [
    "### Count the number of departments in each college"
   ]
  },
  {
   "cell_type": "code",
   "execution_count": 11,
   "metadata": {
    "execution": {
     "iopub.execute_input": "2021-09-09T16:23:12.102Z",
     "iopub.status.busy": "2021-09-09T16:23:12.094Z",
     "iopub.status.idle": "2021-09-09T16:23:13.002Z",
     "shell.execute_reply": "2021-09-09T16:23:13.047Z"
    },
    "jupyter": {
     "outputs_hidden": false,
     "source_hidden": false
    },
    "nteract": {
     "transient": {
      "deleting": false
     }
    }
   },
   "outputs": [
    {
     "name": "stdout",
     "output_type": "stream",
     "text": [
      "+-----------+---------------+\n",
      "|collegename|count(deptname)|\n",
      "+-----------+---------------+\n",
      "|     NATSCI|              1|\n",
      "|        EGR|              3|\n",
      "+-----------+---------------+\n",
      "\n"
     ]
    }
   ],
   "source": [
    "res = collegeDF.groupBy(collegeDF.collegename).agg({'deptname': 'count'})\n",
    "res.show()"
   ]
  },
  {
   "cell_type": "markdown",
   "metadata": {
    "nteract": {
     "transient": {
      "deleting": false
     }
    }
   },
   "source": [
    "### Compute Average grade of students in each college"
   ]
  },
  {
   "cell_type": "code",
   "execution_count": 12,
   "metadata": {
    "execution": {
     "iopub.execute_input": "2021-09-09T16:23:13.028Z",
     "iopub.status.busy": "2021-09-09T16:23:13.017Z",
     "iopub.status.idle": "2021-09-09T16:23:13.334Z",
     "shell.execute_reply": "2021-09-09T16:23:13.384Z"
    },
    "jupyter": {
     "outputs_hidden": false,
     "source_hidden": false
    },
    "nteract": {
     "transient": {
      "deleting": false
     }
    }
   },
   "outputs": [
    {
     "name": "stdout",
     "output_type": "stream",
     "text": [
      "+----+-------+-------+--------+-----------+\n",
      "|name|hwgrade|   dept|deptname|collegename|\n",
      "+----+-------+-------+--------+-----------+\n",
      "|john|   85.0|    CSE|     CSE|        EGR|\n",
      "|bill|   66.0|    ECE|     ECE|        EGR|\n",
      "| lee|   75.0|  CIVIL|   CIVIL|        EGR|\n",
      "|mary|   87.0|BIOLOGY| BIOLOGY|     NATSCI|\n",
      "+----+-------+-------+--------+-----------+\n",
      "\n"
     ]
    }
   ],
   "source": [
    "studentsDF = hwtotalDF.join(collegeDF, hwtotalDF['dept'] == collegeDF['deptname'])\n",
    "studentsDF.show()"
   ]
  },
  {
   "cell_type": "code",
   "execution_count": 13,
   "metadata": {
    "execution": {
     "iopub.execute_input": "2021-09-09T16:23:13.365Z",
     "iopub.status.busy": "2021-09-09T16:23:13.352Z",
     "iopub.status.idle": "2021-09-09T16:23:13.997Z",
     "shell.execute_reply": "2021-09-09T16:23:14.070Z"
    },
    "jupyter": {
     "outputs_hidden": false,
     "source_hidden": false
    },
    "nteract": {
     "transient": {
      "deleting": false
     }
    }
   },
   "outputs": [
    {
     "name": "stdout",
     "output_type": "stream",
     "text": [
      "+-----------+-----------------+\n",
      "|collegename|     avg(hwgrade)|\n",
      "+-----------+-----------------+\n",
      "|     NATSCI|             87.0|\n",
      "|        EGR|75.33333333333333|\n",
      "+-----------+-----------------+\n",
      "\n"
     ]
    }
   ],
   "source": [
    "res = studentsDF.groupBy(studentsDF['collegename']).agg({'hwgrade':'avg'})\n",
    "res.show()"
   ]
  },
  {
   "cell_type": "markdown",
   "metadata": {
    "nteract": {
     "transient": {
      "deleting": false
     }
    }
   },
   "source": [
    "### We can do all this with SQL also"
   ]
  },
  {
   "cell_type": "code",
   "execution_count": 14,
   "metadata": {
    "execution": {
     "iopub.execute_input": "2021-09-09T16:23:14.017Z",
     "iopub.status.busy": "2021-09-09T16:23:14.009Z",
     "iopub.status.idle": "2021-09-09T16:23:14.031Z",
     "shell.execute_reply": "2021-09-09T16:23:14.077Z"
    },
    "jupyter": {
     "outputs_hidden": false,
     "source_hidden": false
    },
    "nteract": {
     "transient": {
      "deleting": false
     }
    }
   },
   "outputs": [],
   "source": [
    "# First, register the table for SQL so it will be recognized in the SQL statement\n",
    "studentsDF.registerTempTable(\"studentsDF\")"
   ]
  },
  {
   "cell_type": "code",
   "execution_count": 15,
   "metadata": {
    "execution": {
     "iopub.execute_input": "2021-09-09T16:23:14.055Z",
     "iopub.status.busy": "2021-09-09T16:23:14.047Z",
     "iopub.status.idle": "2021-09-09T16:23:14.568Z",
     "shell.execute_reply": "2021-09-09T16:23:14.610Z"
    },
    "jupyter": {
     "outputs_hidden": false,
     "source_hidden": false
    },
    "nteract": {
     "transient": {
      "deleting": false
     }
    }
   },
   "outputs": [
    {
     "name": "stdout",
     "output_type": "stream",
     "text": [
      "+-----------+-----------------+\n",
      "|collegename|     avg(hwgrade)|\n",
      "+-----------+-----------------+\n",
      "|        EGR|75.33333333333333|\n",
      "|     NATSCI|             87.0|\n",
      "+-----------+-----------------+\n",
      "\n"
     ]
    }
   ],
   "source": [
    "res = spark.sql(\"select collegename, AVG(hwgrade) from studentsDF group by studentsDF.collegename order by 2\")\n",
    "res.show()"
   ]
  },
  {
   "cell_type": "code",
   "execution_count": 16,
   "metadata": {
    "execution": {
     "iopub.execute_input": "2021-09-09T16:23:14.592Z",
     "iopub.status.busy": "2021-09-09T16:23:14.582Z",
     "iopub.status.idle": "2021-09-09T16:23:14.998Z",
     "shell.execute_reply": "2021-09-09T16:23:15.013Z"
    },
    "jupyter": {
     "outputs_hidden": false,
     "source_hidden": false
    },
    "nteract": {
     "transient": {
      "deleting": false
     }
    }
   },
   "outputs": [
    {
     "name": "stdout",
     "output_type": "stream",
     "text": [
      "+-----------+-----------------+\n",
      "|collegename|     avg(hwgrade)|\n",
      "+-----------+-----------------+\n",
      "|        EGR|75.33333333333333|\n",
      "|     NATSCI|             87.0|\n",
      "+-----------+-----------------+\n",
      "\n"
     ]
    }
   ],
   "source": [
    "# If we use \"\"\" we can do it on multiple lines to make it easier to read\n",
    "res = spark.sql(\"\"\"\n",
    "           select collegename, AVG(hwgrade) from studentsDF \n",
    "           group by studentsDF.collegename \n",
    "           order by 2\n",
    "           \"\"\")\n",
    "res.show()"
   ]
  },
  {
   "cell_type": "code",
   "execution_count": 17,
   "metadata": {
    "jupyter": {
     "outputs_hidden": false,
     "source_hidden": false
    },
    "nteract": {
     "transient": {
      "deleting": false
     }
    }
   },
   "outputs": [
    {
     "name": "stdout",
     "output_type": "stream",
     "text": [
      "+-----------+-----------------+\n",
      "|collegename|     avg(hwgrade)|\n",
      "+-----------+-----------------+\n",
      "|        EGR|75.33333333333333|\n",
      "|     NATSCI|             87.0|\n",
      "+-----------+-----------------+\n",
      "\n"
     ]
    }
   ],
   "source": [
    "# We can do a more complex query\n",
    "hwtotalDF.registerTempTable('hwtotalDF')\n",
    "collegeDF.registerTempTable('collegeDF')\n",
    "res = spark.sql(\"\"\"\n",
    "            select collegename, AVG(hwgrade) from hwtotalDF join collegeDF\n",
    "            on hwtotalDF.dept == collegeDF.deptname \n",
    "            group by collegename\n",
    "            order by 2\n",
    "            \"\"\")\n",
    "res.show()"
   ]
  },
  {
   "cell_type": "code",
   "execution_count": 18,
   "metadata": {
    "jupyter": {
     "outputs_hidden": false,
     "source_hidden": false
    },
    "nteract": {
     "transient": {
      "deleting": false
     }
    }
   },
   "outputs": [
    {
     "name": "stdout",
     "output_type": "stream",
     "text": [
      "+----+---+---+---+\n",
      "|name|hw1|hw2|hw3|\n",
      "+----+---+---+---+\n",
      "|john| 26| 29| 30|\n",
      "|mary| 27| 25| 35|\n",
      "|bill| 19| 22| 25|\n",
      "| lee| 25| 25| 25|\n",
      "+----+---+---+---+\n",
      "\n"
     ]
    }
   ],
   "source": [
    "gradeDF.registerTempTable('gradeDF')\n",
    "spark.sql(\"select * from gradeDF\").show()"
   ]
  },
  {
   "cell_type": "code",
   "execution_count": 19,
   "metadata": {},
   "outputs": [
    {
     "name": "stdout",
     "output_type": "stream",
     "text": [
      "+----+---+---+---+--------+\n",
      "|name|hw1|hw2|hw3|hwtotoal|\n",
      "+----+---+---+---+--------+\n",
      "|john| 26| 29| 30|    85.0|\n",
      "|mary| 27| 25| 35|    87.0|\n",
      "|bill| 19| 22| 25|    66.0|\n",
      "| lee| 25| 25| 25|    75.0|\n",
      "+----+---+---+---+--------+\n",
      "\n"
     ]
    }
   ],
   "source": [
    "gradeDF = spark.sql(\"select *, hw1+hw2+hw3 as hwtotoal from gradeDF\")\n",
    "gradeDF.show()"
   ]
  },
  {
   "cell_type": "code",
   "execution_count": 22,
   "metadata": {},
   "outputs": [
    {
     "name": "stdout",
     "output_type": "stream",
     "text": [
      "+----+---+---+---+--------+\n",
      "|name|hw1|hw2|hw3|hwtotoal|\n",
      "+----+---+---+---+--------+\n",
      "|john| 26| 29| 30|    85.0|\n",
      "|mary| 27| 25| 35|    87.0|\n",
      "|bill| 19| 22| 25|    66.0|\n",
      "| lee| 25| 25| 25|    75.0|\n",
      "+----+---+---+---+--------+\n",
      "\n"
     ]
    }
   ],
   "source": [
    "gradeDF.registerTempTable('gradeDF')\n",
    "spark.sql(\"select * from gradeDF\").show()"
   ]
  },
  {
   "cell_type": "code",
   "execution_count": null,
   "metadata": {},
   "outputs": [],
   "source": []
  }
 ],
 "metadata": {
  "kernel_info": {
   "name": "python3"
  },
  "kernelspec": {
   "display_name": "Python 3 (ipykernel)",
   "language": "python",
   "name": "python3"
  },
  "language_info": {
   "codemirror_mode": {
    "name": "ipython",
    "version": 3
   },
   "file_extension": ".py",
   "mimetype": "text/x-python",
   "name": "python",
   "nbconvert_exporter": "python",
   "pygments_lexer": "ipython3",
   "version": "3.9.7"
  },
  "nteract": {
   "version": "0.28.0"
  }
 },
 "nbformat": 4,
 "nbformat_minor": 1
}
