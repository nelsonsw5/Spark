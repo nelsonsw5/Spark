{
  "cells": [
    {
      "cell_type": "code",
      "source": [
        "import os\n",
        "import pyspark\n",
        "import re\n",
        "import sys\n",
        "from operator import add\n",
        "from pyspark.sql import SparkSession"
      ],
      "outputs": [],
      "execution_count": 1,
      "metadata": {
        "collapsed": false,
        "jupyter": {
          "source_hidden": false,
          "outputs_hidden": false
        },
        "nteract": {
          "transient": {
            "deleting": false
          }
        },
        "execution": {
          "iopub.status.busy": "2021-03-18T16:08:58.253Z",
          "iopub.execute_input": "2021-03-18T16:08:58.265Z",
          "iopub.status.idle": "2021-03-18T16:08:58.442Z",
          "shell.execute_reply": "2021-03-18T16:08:58.450Z"
        }
      }
    },
    {
      "cell_type": "code",
      "source": [
        "os.environ[\"SPARK_HOME\"] = \"/Users/snell/Software/spark-3.1.1-bin-hadoop2.7\"\n",
        "os.environ[\"PYSPARK_PYTHON\"]=\"/Users/snell/anaconda3/bin/python\"\n",
        "os.environ[\"PYSPARK_DRIVER_PYTHON\"]=\"/Users/snell/anaconda3/bin/python\"\n",
        "os.environ[\"JAVA_HOME\"] = \"/Library/Java/JavaVirtualMachines/jdk1.8.0_92.jdk/Contents/Home/\""
      ],
      "outputs": [],
      "execution_count": 2,
      "metadata": {
        "collapsed": false,
        "jupyter": {
          "source_hidden": false,
          "outputs_hidden": false
        },
        "nteract": {
          "transient": {
            "deleting": false
          }
        },
        "execution": {
          "iopub.status.busy": "2021-03-18T16:09:01.110Z",
          "iopub.execute_input": "2021-03-18T16:09:01.119Z",
          "iopub.status.idle": "2021-03-18T16:09:01.128Z",
          "shell.execute_reply": "2021-03-18T16:09:01.134Z"
        }
      }
    },
    {
      "cell_type": "code",
      "source": [
        "spark = SparkSession.builder.appName(\"PageRankExample\").getOrCreate()\n",
        "spark.sparkContext.setLogLevel('WARN')"
      ],
      "outputs": [],
      "execution_count": 3,
      "metadata": {
        "collapsed": false,
        "jupyter": {
          "source_hidden": false,
          "outputs_hidden": false
        },
        "nteract": {
          "transient": {
            "deleting": false
          }
        },
        "execution": {
          "iopub.status.busy": "2021-03-18T16:09:04.082Z",
          "iopub.execute_input": "2021-03-18T16:09:04.089Z",
          "iopub.status.idle": "2021-03-18T16:09:07.789Z",
          "shell.execute_reply": "2021-03-18T16:09:07.793Z"
        }
      }
    },
    {
      "cell_type": "code",
      "source": [
        "def computeContribs(urls, rank):\n",
        "    \"\"\"Calculates URL contributions to the rank of other URLs.\"\"\"\n",
        "    num_urls = len(urls)\n",
        "    for url in urls:\n",
        "        yield (url, rank / num_urls)"
      ],
      "outputs": [],
      "execution_count": 4,
      "metadata": {
        "collapsed": false,
        "jupyter": {
          "source_hidden": false,
          "outputs_hidden": false
        },
        "nteract": {
          "transient": {
            "deleting": false
          }
        },
        "execution": {
          "iopub.status.busy": "2021-03-18T16:10:18.530Z",
          "iopub.execute_input": "2021-03-18T16:10:18.536Z",
          "iopub.status.idle": "2021-03-18T16:10:18.546Z",
          "shell.execute_reply": "2021-03-18T16:10:18.553Z"
        }
      }
    },
    {
      "cell_type": "code",
      "source": [
        "def parseNeighbors(urls):\n",
        "    \"\"\"Parses a urls pair string into urls pair.\"\"\"\n",
        "    parts = re.split(r'\\s+', urls)\n",
        "    return parts[0], parts[1]"
      ],
      "outputs": [],
      "execution_count": 5,
      "metadata": {
        "collapsed": false,
        "jupyter": {
          "source_hidden": false,
          "outputs_hidden": false
        },
        "nteract": {
          "transient": {
            "deleting": false
          }
        },
        "execution": {
          "iopub.status.busy": "2021-03-18T16:10:19.729Z",
          "iopub.execute_input": "2021-03-18T16:10:19.734Z",
          "iopub.status.idle": "2021-03-18T16:10:19.745Z",
          "shell.execute_reply": "2021-03-18T16:10:19.750Z"
        }
      }
    },
    {
      "cell_type": "code",
      "source": [
        "!cat pagerankinput.txt"
      ],
      "outputs": [
        {
          "output_type": "stream",
          "name": "stdout",
          "text": [
            "n1 n2\r\n",
            "n1 n4\r\n",
            "n2 n3\r\n",
            "n2 n5\r\n",
            "n3 n4\r\n",
            "n4 n5\r\n",
            "n5 n1\r\n",
            "n5 n2\r\n",
            "n5 n3\r\n"
          ]
        }
      ],
      "execution_count": 6,
      "metadata": {
        "collapsed": true,
        "jupyter": {
          "source_hidden": false,
          "outputs_hidden": false
        },
        "nteract": {
          "transient": {
            "deleting": false
          }
        },
        "execution": {
          "iopub.status.busy": "2021-03-18T16:10:48.691Z",
          "iopub.execute_input": "2021-03-18T16:10:48.698Z",
          "iopub.status.idle": "2021-03-18T16:10:48.809Z",
          "shell.execute_reply": "2021-03-18T16:10:48.817Z"
        }
      }
    },
    {
      "cell_type": "code",
      "source": [
        "inputfile = 'pagerankinput.txt'\n",
        "totiterations = 2"
      ],
      "outputs": [],
      "execution_count": 7,
      "metadata": {
        "collapsed": false,
        "jupyter": {
          "source_hidden": false,
          "outputs_hidden": false
        },
        "nteract": {
          "transient": {
            "deleting": false
          }
        },
        "execution": {
          "iopub.status.busy": "2021-03-18T16:11:20.241Z",
          "iopub.execute_input": "2021-03-18T16:11:20.247Z",
          "iopub.status.idle": "2021-03-18T16:11:20.257Z",
          "shell.execute_reply": "2021-03-18T16:11:20.265Z"
        }
      }
    },
    {
      "cell_type": "code",
      "source": [
        "# Loads in input file. It should be in format of:\n",
        "#     URL         neighbor URL\n",
        "#     URL         neighbor URL\n",
        "#     URL         neighbor URL\n",
        "#     ...\n",
        "lines = spark.sparkContext.textFile(inputfile)\n",
        "lines.collect()"
      ],
      "outputs": [
        {
          "output_type": "execute_result",
          "execution_count": 8,
          "data": {
            "text/plain": "['n1 n2',\n 'n1 n4',\n 'n2 n3',\n 'n2 n5',\n 'n3 n4',\n 'n4 n5',\n 'n5 n1',\n 'n5 n2',\n 'n5 n3']"
          },
          "metadata": {}
        }
      ],
      "execution_count": 8,
      "metadata": {
        "collapsed": false,
        "jupyter": {
          "source_hidden": false,
          "outputs_hidden": false
        },
        "nteract": {
          "transient": {
            "deleting": false
          }
        },
        "execution": {
          "iopub.status.busy": "2021-03-18T16:11:25.966Z",
          "iopub.execute_input": "2021-03-18T16:11:25.975Z",
          "iopub.status.idle": "2021-03-18T16:11:27.247Z",
          "shell.execute_reply": "2021-03-18T16:11:27.260Z"
        }
      }
    },
    {
      "cell_type": "code",
      "source": [
        "# Group all URLs from input file \n",
        "links = lines.map(lambda urls: parseNeighbors(urls)).distinct().groupByKey().cache()\n",
        "links.collect()"
      ],
      "outputs": [
        {
          "output_type": "execute_result",
          "execution_count": 9,
          "data": {
            "text/plain": "[('n1', <pyspark.resultiterable.ResultIterable at 0x7fea408425f8>),\n ('n4', <pyspark.resultiterable.ResultIterable at 0x7fea408425c0>),\n ('n5', <pyspark.resultiterable.ResultIterable at 0x7fea408427f0>),\n ('n2', <pyspark.resultiterable.ResultIterable at 0x7fea408426d8>),\n ('n3', <pyspark.resultiterable.ResultIterable at 0x7fea40842780>)]"
          },
          "metadata": {}
        }
      ],
      "execution_count": 9,
      "metadata": {
        "collapsed": false,
        "jupyter": {
          "source_hidden": false,
          "outputs_hidden": false
        },
        "nteract": {
          "transient": {
            "deleting": false
          }
        },
        "execution": {
          "iopub.status.busy": "2021-03-18T16:13:34.957Z",
          "iopub.execute_input": "2021-03-18T16:13:34.968Z",
          "iopub.status.idle": "2021-03-18T16:13:35.867Z",
          "shell.execute_reply": "2021-03-18T16:13:35.882Z"
        }
      }
    },
    {
      "cell_type": "code",
      "source": [
        "# Lets turn the ResultIterable into a list just so we can see it\n",
        "linkslist = links.map(lambda x: (x[0], list(x[1])))\n",
        "linkslist.collect()"
      ],
      "outputs": [
        {
          "output_type": "execute_result",
          "execution_count": 10,
          "data": {
            "text/plain": "[('n1', ['n4', 'n2']),\n ('n4', ['n5']),\n ('n5', ['n1', 'n2', 'n3']),\n ('n2', ['n3', 'n5']),\n ('n3', ['n4'])]"
          },
          "metadata": {}
        }
      ],
      "execution_count": 10,
      "metadata": {
        "collapsed": true,
        "jupyter": {
          "source_hidden": false,
          "outputs_hidden": false
        },
        "nteract": {
          "transient": {
            "deleting": false
          }
        },
        "execution": {
          "iopub.status.busy": "2021-03-18T16:14:06.618Z",
          "iopub.execute_input": "2021-03-18T16:14:06.625Z",
          "iopub.status.idle": "2021-03-18T16:14:06.638Z",
          "shell.execute_reply": "2021-03-18T16:14:06.645Z"
        }
      }
    },
    {
      "cell_type": "code",
      "source": [
        "# Initialize page ranks. To follow the slides, intialize to 0.2\n",
        "initialval = 0.2\n",
        "ranks = links.map(lambda url_neighbors: (url_neighbors[0], initialval))\n",
        "ranks.collect()"
      ],
      "outputs": [
        {
          "output_type": "execute_result",
          "execution_count": 11,
          "data": {
            "text/plain": "[('n1', 0.2), ('n4', 0.2), ('n5', 0.2), ('n2', 0.2), ('n3', 0.2)]"
          },
          "metadata": {}
        }
      ],
      "execution_count": 11,
      "metadata": {
        "collapsed": false,
        "jupyter": {
          "source_hidden": false,
          "outputs_hidden": false
        },
        "nteract": {
          "transient": {
            "deleting": false
          }
        },
        "execution": {
          "iopub.status.busy": "2021-03-18T16:15:27.107Z",
          "iopub.execute_input": "2021-03-18T16:15:27.116Z",
          "iopub.status.idle": "2021-03-18T16:15:27.134Z",
          "shell.execute_reply": "2021-03-18T16:15:27.141Z"
        }
      }
    },
    {
      "cell_type": "code",
      "source": [
        "linkranks = linkslist.join(ranks)\n",
        "linkranks.collect()"
      ],
      "outputs": [
        {
          "output_type": "execute_result",
          "execution_count": 12,
          "data": {
            "text/plain": "[('n1', (['n4', 'n2'], 0.2)),\n ('n5', (['n1', 'n2', 'n3'], 0.2)),\n ('n4', (['n5'], 0.2)),\n ('n2', (['n3', 'n5'], 0.2)),\n ('n3', (['n4'], 0.2))]"
          },
          "metadata": {}
        }
      ],
      "execution_count": 12,
      "metadata": {
        "collapsed": true,
        "jupyter": {
          "source_hidden": false,
          "outputs_hidden": false
        },
        "nteract": {
          "transient": {
            "deleting": false
          }
        },
        "execution": {
          "iopub.status.busy": "2021-03-18T16:16:50.189Z",
          "iopub.execute_input": "2021-03-18T16:16:50.199Z",
          "iopub.status.idle": "2021-03-18T16:16:50.221Z",
          "shell.execute_reply": "2021-03-18T16:16:50.231Z"
        }
      }
    },
    {
      "cell_type": "code",
      "source": [
        "# Note: url_urls_rank is a (page, (list of urls, page rank)), so \n",
        "#         url_urls_rank[0] is the page\n",
        "#         url_urls_rank[1][0] is the list of urls\n",
        "#         url_urls_rank[1][1] is the page rank\n",
        "contribs = links.join(ranks).flatMap(\n",
        "        lambda url_urls_rank: computeContribs(url_urls_rank[1][0], url_urls_rank[1][1]))\n",
        "contribs.collect()"
      ],
      "outputs": [
        {
          "output_type": "execute_result",
          "execution_count": 13,
          "data": {
            "text/plain": "[('n4', 0.1),\n ('n2', 0.1),\n ('n1', 0.06666666666666667),\n ('n2', 0.06666666666666667),\n ('n3', 0.06666666666666667),\n ('n5', 0.2),\n ('n3', 0.1),\n ('n5', 0.1),\n ('n4', 0.2)]"
          },
          "metadata": {}
        }
      ],
      "execution_count": 13,
      "metadata": {
        "collapsed": true,
        "jupyter": {
          "source_hidden": false,
          "outputs_hidden": false
        },
        "nteract": {
          "transient": {
            "deleting": false
          }
        },
        "execution": {
          "iopub.status.busy": "2021-03-18T16:19:39.129Z",
          "iopub.execute_input": "2021-03-18T16:19:39.139Z",
          "iopub.status.idle": "2021-03-18T16:19:39.225Z",
          "shell.execute_reply": "2021-03-18T16:19:39.241Z"
        }
      }
    },
    {
      "cell_type": "code",
      "source": [
        "ranks = contribs.reduceByKey(add)\n",
        "ranks.collect()"
      ],
      "outputs": [
        {
          "output_type": "execute_result",
          "execution_count": 14,
          "data": {
            "text/plain": "[('n1', 0.06666666666666667),\n ('n5', 0.30000000000000004),\n ('n4', 0.30000000000000004),\n ('n2', 0.16666666666666669),\n ('n3', 0.16666666666666669)]"
          },
          "metadata": {}
        }
      ],
      "execution_count": 14,
      "metadata": {
        "collapsed": true,
        "jupyter": {
          "source_hidden": false,
          "outputs_hidden": false
        },
        "nteract": {
          "transient": {
            "deleting": false
          }
        },
        "execution": {
          "iopub.status.busy": "2021-03-18T16:20:22.934Z",
          "iopub.execute_input": "2021-03-18T16:20:22.942Z",
          "iopub.status.idle": "2021-03-18T16:20:22.959Z",
          "shell.execute_reply": "2021-03-18T16:20:22.965Z"
        }
      }
    },
    {
      "cell_type": "code",
      "source": [
        "# Calculates and updates URL ranks continuously using PageRank algorithm.\n",
        "for iteration in range(totiterations):\n",
        "    # Calculates URL contributions to the rank of other URLs.\n",
        "    contribs = links.join(ranks).flatMap(\n",
        "        lambda url_urls_rank: computeContribs(url_urls_rank[1][0], url_urls_rank[1][1]))\n",
        "\n",
        "    # Re-calculates URL ranks based on neighbor contributions.\n",
        "    # First way is like a naive Google - Second way is simple add\n",
        "    ranks = contribs.reduceByKey(add).mapValues(lambda rank: rank * 0.85 + 0.15) \n",
        "    ranks = contribs.reduceByKey(add) # This way just follows the slides"
      ],
      "outputs": [],
      "execution_count": 15,
      "metadata": {
        "collapsed": false,
        "jupyter": {
          "source_hidden": false,
          "outputs_hidden": false
        },
        "nteract": {
          "transient": {
            "deleting": false
          }
        },
        "execution": {
          "iopub.status.busy": "2021-03-18T16:24:03.979Z",
          "iopub.execute_input": "2021-03-18T16:24:03.987Z",
          "iopub.status.idle": "2021-03-18T16:24:04.044Z",
          "shell.execute_reply": "2021-03-18T16:24:04.058Z"
        }
      }
    },
    {
      "cell_type": "code",
      "source": [
        "ranks.collect()"
      ],
      "outputs": [
        {
          "output_type": "execute_result",
          "execution_count": 16,
          "data": {
            "text/plain": "[('n1', 0.1277777777777778),\n ('n3', 0.19444444444444448),\n ('n5', 0.2666666666666667),\n ('n4', 0.23333333333333336),\n ('n2', 0.1777777777777778)]"
          },
          "metadata": {}
        }
      ],
      "execution_count": 16,
      "metadata": {
        "collapsed": false,
        "jupyter": {
          "source_hidden": false,
          "outputs_hidden": false
        },
        "nteract": {
          "transient": {
            "deleting": false
          }
        },
        "execution": {
          "iopub.status.busy": "2021-03-18T16:24:06.794Z",
          "iopub.execute_input": "2021-03-18T16:24:06.803Z",
          "iopub.status.idle": "2021-03-18T16:24:07.068Z",
          "shell.execute_reply": "2021-03-18T16:24:07.083Z"
        }
      }
    },
    {
      "cell_type": "code",
      "source": [
        "# Collect all URL ranks and dump them to console.\n",
        "for (link, rank) in ranks.collect():\n",
        "    print(\"%s has rank: %s.\" % (link, rank))"
      ],
      "outputs": [
        {
          "output_type": "stream",
          "name": "stdout",
          "text": [
            "n1 has rank: 0.1277777777777778.\n",
            "n3 has rank: 0.19444444444444448.\n",
            "n5 has rank: 0.2666666666666667.\n",
            "n4 has rank: 0.23333333333333336.\n",
            "n2 has rank: 0.1777777777777778.\n"
          ]
        }
      ],
      "execution_count": 17,
      "metadata": {
        "collapsed": false,
        "jupyter": {
          "source_hidden": false,
          "outputs_hidden": false
        },
        "nteract": {
          "transient": {
            "deleting": false
          }
        },
        "execution": {
          "iopub.status.busy": "2021-03-18T16:24:14.687Z",
          "iopub.execute_input": "2021-03-18T16:24:14.693Z",
          "iopub.status.idle": "2021-03-18T16:24:14.707Z",
          "shell.execute_reply": "2021-03-18T16:24:14.714Z"
        }
      }
    },
    {
      "cell_type": "code",
      "source": [],
      "outputs": [],
      "execution_count": null,
      "metadata": {
        "collapsed": false,
        "jupyter": {
          "source_hidden": false,
          "outputs_hidden": false
        },
        "nteract": {
          "transient": {
            "deleting": false
          }
        }
      }
    },
    {
      "cell_type": "code",
      "source": [],
      "outputs": [],
      "execution_count": null,
      "metadata": {
        "collapsed": true,
        "jupyter": {
          "source_hidden": false,
          "outputs_hidden": false
        },
        "nteract": {
          "transient": {
            "deleting": false
          }
        }
      }
    }
  ],
  "metadata": {
    "kernel_info": {
      "name": "python3"
    },
    "language_info": {
      "name": "python",
      "version": "3.6.10",
      "mimetype": "text/x-python",
      "codemirror_mode": {
        "name": "ipython",
        "version": 3
      },
      "pygments_lexer": "ipython3",
      "nbconvert_exporter": "python",
      "file_extension": ".py"
    },
    "kernelspec": {
      "argv": [
        "/Users/snell/anaconda3/bin/python",
        "-m",
        "ipykernel_launcher",
        "-f",
        "{connection_file}"
      ],
      "display_name": "Python 3",
      "language": "python",
      "name": "python3"
    },
    "nteract": {
      "version": "0.26.0"
    }
  },
  "nbformat": 4,
  "nbformat_minor": 0
}