{
  "cells": [
    {
      "cell_type": "code",
      "execution_count": 1,
      "metadata": {
        "collapsed": true,
        "execution": {
          "iopub.execute_input": "2021-09-09T15:50:08.658Z",
          "iopub.status.busy": "2021-09-09T15:50:08.654Z",
          "iopub.status.idle": "2021-09-09T15:50:08.846Z",
          "shell.execute_reply": "2021-09-09T15:50:08.852Z"
        },
        "jupyter": {
          "outputs_hidden": false,
          "source_hidden": false
        },
        "nteract": {
          "transient": {
            "deleting": false
          }
        }
      },
      "outputs": [],
      "source": [
        "import pyspark\n",
        "from pyspark.sql import SparkSession\n",
        "import os\n",
        "import re\n",
        "from operator import add"
      ]
    },
    {
      "cell_type": "code",
      "execution_count": 2,
      "metadata": {
        "collapsed": true,
        "execution": {
          "iopub.execute_input": "2021-09-09T15:50:09.923Z",
          "iopub.status.busy": "2021-09-09T15:50:09.919Z",
          "iopub.status.idle": "2021-09-09T15:50:09.930Z",
          "shell.execute_reply": "2021-09-09T15:50:09.935Z"
        },
        "jupyter": {
          "outputs_hidden": false,
          "source_hidden": false
        },
        "nteract": {
          "transient": {
            "deleting": false
          }
        }
      },
      "outputs": [],
      "source": [
        "#os.environ[\"SPARK_HOME\"] = \"/Users/snell/Software/spark-3.2.1-bin-hadoop3.2\"\n",
        "#os.environ[\"PYSPARK_PYTHON\"]=\"/Users/snell/anaconda3/bin/python\"\n",
        "#os.environ[\"PYSPARK_DRIVER_PYTHON\"]=\"/Users/snell/anaconda3/bin/python\"\n",
        "# os.environ[\"JAVA_HOME\"] = \"/Library/Java/JavaVirtualMachines/jdk1.8.0_92.jdk/Contents/Home/\"\n",
        "#os.environ[\"JAVA_HOME\"] = \"/Library/Java/JavaVirtualMachines/adoptopenjdk-11.jdk/Contents/Home/\""
      ]
    },
    {
      "cell_type": "code",
      "execution_count": 3,
      "metadata": {
        "collapsed": true,
        "execution": {
          "iopub.execute_input": "2021-09-09T15:50:11.898Z",
          "iopub.status.busy": "2021-09-09T15:50:11.893Z",
          "iopub.status.idle": "2021-09-09T15:50:15.651Z",
          "shell.execute_reply": "2021-09-09T15:50:15.696Z"
        },
        "jupyter": {
          "outputs_hidden": false,
          "source_hidden": false
        },
        "nteract": {
          "transient": {
            "deleting": false
          }
        }
      },
      "outputs": [
        {
          "name": "stderr",
          "output_type": "stream",
          "text": [
            "22/03/10 14:25:08 WARN Utils: Your hostname, Stephens-MBP.local resolves to a loopback address: 127.0.0.1; using 192.168.253.47 instead (on interface en0)\n",
            "22/03/10 14:25:08 WARN Utils: Set SPARK_LOCAL_IP if you need to bind to another address\n",
            "Using Spark's default log4j profile: org/apache/spark/log4j-defaults.properties\n",
            "Setting default log level to \"WARN\".\n",
            "To adjust logging level use sc.setLogLevel(newLevel). For SparkR, use setLogLevel(newLevel).\n",
            "22/03/10 14:25:09 WARN NativeCodeLoader: Unable to load native-hadoop library for your platform... using builtin-java classes where applicable\n"
          ]
        },
        {
          "data": {
            "text/plain": [
              "'http://192.168.253.47:4040'"
            ]
          },
          "execution_count": 3,
          "metadata": {},
          "output_type": "execute_result"
        }
      ],
      "source": [
        "spark = SparkSession.builder \\\n",
        "    .appName(\"WordcountExample1\") \\\n",
        "    .getOrCreate()\n",
        "sc = spark.sparkContext\n",
        "sc.setLogLevel('WARN')\n",
        "sc.uiWebUrl"
      ]
    },
    {
      "cell_type": "code",
      "execution_count": 4,
      "metadata": {
        "collapsed": true,
        "execution": {
          "iopub.execute_input": "2021-09-09T15:50:15.662Z",
          "iopub.status.busy": "2021-09-09T15:50:15.658Z",
          "iopub.status.idle": "2021-09-09T15:50:15.669Z",
          "shell.execute_reply": "2021-09-09T15:50:15.700Z"
        },
        "jupyter": {
          "outputs_hidden": false,
          "source_hidden": false
        },
        "nteract": {
          "transient": {
            "deleting": false
          }
        }
      },
      "outputs": [],
      "source": [
        "def wordsFromLine(line):\n",
        "    return re.split('\\W+', line.lower())"
      ]
    },
    {
      "cell_type": "code",
      "execution_count": 5,
      "metadata": {
        "collapsed": true,
        "execution": {
          "iopub.execute_input": "2021-09-09T15:50:15.682Z",
          "iopub.status.busy": "2021-09-09T15:50:15.676Z",
          "iopub.status.idle": "2021-09-09T15:50:18.146Z",
          "shell.execute_reply": "2021-09-09T15:50:18.153Z"
        },
        "jupyter": {
          "outputs_hidden": false,
          "source_hidden": false
        },
        "nteract": {
          "transient": {
            "deleting": false
          }
        }
      },
      "outputs": [
        {
          "name": "stderr",
          "output_type": "stream",
          "text": [
            "/opt/anaconda3/envs/spark/lib/python3.10/site-packages/pyspark/python/lib/pyspark.zip/pyspark/shuffle.py:60: UserWarning: Please install psutil to have better support with spilling\n",
            "/opt/anaconda3/envs/spark/lib/python3.10/site-packages/pyspark/python/lib/pyspark.zip/pyspark/shuffle.py:60: UserWarning: Please install psutil to have better support with spilling\n",
            "                                                                                \r"
          ]
        },
        {
          "data": {
            "text/plain": [
              "[('the', 64204),\n",
              " ('', 56045),\n",
              " ('and', 51764),\n",
              " ('of', 34789),\n",
              " ('to', 13660),\n",
              " ('that', 12927),\n",
              " ('in', 12725),\n",
              " ('he', 10422),\n",
              " ('shall', 9840),\n",
              " ('for', 8997),\n",
              " ('unto', 8997),\n",
              " ('i', 8854),\n",
              " ('his', 8473),\n",
              " ('a', 8235),\n",
              " ('lord', 7964),\n",
              " ('they', 7379),\n",
              " ('be', 7032),\n",
              " ('is', 7015),\n",
              " ('him', 6659),\n",
              " ('not', 6617),\n",
              " ('them', 6430),\n",
              " ('it', 6144),\n",
              " ('with', 6059),\n",
              " ('all', 5638),\n",
              " ('thou', 5474),\n",
              " ('thy', 4600),\n",
              " ('was', 4524),\n",
              " ('god', 4472),\n",
              " ('which', 4420),\n",
              " ('my', 4368),\n",
              " ('me', 4096),\n",
              " ('said', 3999),\n",
              " ('but', 3997),\n",
              " ('ye', 3983),\n",
              " ('their', 3942),\n",
              " ('have', 3909),\n",
              " ('will', 3843),\n",
              " ('thee', 3827),\n",
              " ('from', 3657),\n",
              " ('as', 3531),\n",
              " ('are', 2970),\n",
              " ('when', 2835),\n",
              " ('this', 2833),\n",
              " ('1', 2830),\n",
              " ('out', 2776),\n",
              " ('were', 2772),\n",
              " ('upon', 2750),\n",
              " ('man', 2735),\n",
              " ('2', 2725),\n",
              " ('you', 2687)]"
            ]
          },
          "execution_count": 5,
          "metadata": {},
          "output_type": "execute_result"
        }
      ],
      "source": [
        "\n",
        "sc.textFile('bible.txt').flatMap(wordsFromLine) \\\n",
        "                  .map(lambda x: (x, 1)) \\\n",
        "                  .reduceByKey(add) \\\n",
        "                  .sortBy(lambda a: a[1], False) \\\n",
        "                  .take(50)"
      ]
    },
    {
      "cell_type": "code",
      "execution_count": null,
      "metadata": {
        "collapsed": true,
        "jupyter": {
          "outputs_hidden": false,
          "source_hidden": false
        },
        "nteract": {
          "transient": {
            "deleting": false
          }
        }
      },
      "outputs": [],
      "source": []
    }
  ],
  "metadata": {
    "kernel_info": {
      "name": "python3"
    },
    "kernelspec": {
      "argv": [
        "/Users/snell/anaconda3/bin/python",
        "-m",
        "ipykernel_launcher",
        "-f",
        "{connection_file}"
      ],
      "display_name": "Python 3",
      "language": "python",
      "name": "python3"
    },
    "language_info": {
      "codemirror_mode": {
        "name": "ipython",
        "version": 3
      },
      "file_extension": ".py",
      "mimetype": "text/x-python",
      "name": "python",
      "nbconvert_exporter": "python",
      "pygments_lexer": "ipython3",
      "version": "3.10.0"
    },
    "nteract": {
      "version": "0.28.0"
    }
  },
  "nbformat": 4,
  "nbformat_minor": 0
}
